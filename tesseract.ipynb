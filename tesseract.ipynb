{
  "cells": [
    {
      "cell_type": "code",
      "source": [
        "!sudo apt-get install tesseract-ocr"
      ],
      "metadata": {
        "id": "6MvdujhIbFkY"
      },
      "execution_count": null,
      "outputs": []
    },
    {
      "cell_type": "code",
      "source": [
        "!pip install pytesseract==0.3.9\n"
      ],
      "metadata": {
        "colab": {
          "base_uri": "https://localhost:8080/"
        },
        "id": "4w5r4yuBcAfW",
        "outputId": "b183e595-015a-45b6-b28a-6fe945dfaf40"
      },
      "execution_count": 2,
      "outputs": [
        {
          "output_type": "stream",
          "name": "stdout",
          "text": [
            "Looking in indexes: https://pypi.org/simple, https://us-python.pkg.dev/colab-wheels/public/simple/\n",
            "Requirement already satisfied: pytesseract==0.3.9 in /usr/local/lib/python3.8/dist-packages (0.3.9)\n",
            "Requirement already satisfied: Pillow>=8.0.0 in /usr/local/lib/python3.8/dist-packages (from pytesseract==0.3.9) (9.4.0)\n",
            "Requirement already satisfied: packaging>=21.3 in /usr/local/lib/python3.8/dist-packages (from pytesseract==0.3.9) (23.0)\n"
          ]
        }
      ]
    },
    {
      "cell_type": "code",
      "execution_count": 3,
      "metadata": {
        "colab": {
          "base_uri": "https://localhost:8080/"
        },
        "id": "zAByjbSxZJv-",
        "outputId": "2611aa95-4886-4ce5-ed19-183c6bbb8f0e"
      },
      "outputs": [
        {
          "output_type": "stream",
          "name": "stdout",
          "text": [
            "dict_keys(['level', 'page_num', 'block_num', 'par_num', 'line_num', 'word_num', 'left', 'top', 'width', 'height', 'conf', 'text'])\n"
          ]
        }
      ],
      "source": [
        "import pytesseract\n",
        "from pytesseract import Output\n",
        "from PIL import Image\n",
        "import cv2\n",
        "imag = cv2.imread('GHW.png')\n",
        "\n",
        "d = pytesseract.image_to_data(imag, output_type=Output.DICT)\n",
        "print(d.keys())"
      ]
    }
  ],
  "metadata": {
    "colab": {
      "provenance": []
    },
    "kernelspec": {
      "display_name": "Python 3",
      "name": "python3"
    },
    "language_info": {
      "name": "python"
    }
  },
  "nbformat": 4,
  "nbformat_minor": 0
}